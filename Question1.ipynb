{
 "cells": [
  {
   "cell_type": "code",
   "execution_count": 1,
   "id": "c2c41287",
   "metadata": {},
   "outputs": [
    {
     "name": "stdout",
     "output_type": "stream",
     "text": [
      "Hello, Here is the question 1\n",
      "Enter first number: 1\n",
      "Enter second number:2\n",
      "The sum of 1 and 2 is 3.0\n"
     ]
    }
   ],
   "source": [
    "\n",
    "print(\"Hello, Here is the question 1\" )\n",
    "\n",
    "# To take the input from the user\n",
    "num1 = input('Enter first number: ')\n",
    "num2 = input('Enter second number:')\n",
    "\n",
    "#Add two numbers\n",
    "sum = float(num1) + float(num2)\n",
    "\n",
    "#Display the sum\n",
    "print('The sum of {0} and {1} is {2}'.format(num1, num2, sum))"
   ]
  }
 ],
 "metadata": {
  "kernelspec": {
   "display_name": "Python 3",
   "language": "python",
   "name": "python3"
  },
  "language_info": {
   "codemirror_mode": {
    "name": "ipython",
    "version": 3
   },
   "file_extension": ".py",
   "mimetype": "text/x-python",
   "name": "python",
   "nbconvert_exporter": "python",
   "pygments_lexer": "ipython3",
   "version": "3.8.8"
  }
 },
 "nbformat": 4,
 "nbformat_minor": 5
}
